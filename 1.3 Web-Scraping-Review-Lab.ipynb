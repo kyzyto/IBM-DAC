{
 "cells": [
  {
   "cell_type": "markdown",
   "metadata": {},
   "source": [
    "<center>\n",
    "    <img src=\"https://gitlab.com/ibm/skills-network/courses/placeholder101/-/raw/master/labs/module%201/images/IDSNlogo.png\" width=\"300\" alt=\"cognitiveclass.ai logo\"  />\n",
    "</center>\n"
   ]
  },
  {
   "cell_type": "markdown",
   "metadata": {},
   "source": [
    "# **Web Scraping Lab**\n"
   ]
  },
  {
   "cell_type": "markdown",
   "metadata": {},
   "source": [
    "Estimated time needed: **30** minutes\n"
   ]
  },
  {
   "cell_type": "markdown",
   "metadata": {},
   "source": [
    "## Objectives\n"
   ]
  },
  {
   "cell_type": "markdown",
   "metadata": {},
   "source": [
    "After completing this lab you will be able to:\n"
   ]
  },
  {
   "cell_type": "markdown",
   "metadata": {},
   "source": [
    "*   Download a webpage using requests module\n",
    "*   Scrape all links from a web page\n",
    "*   Scrape all image urls from a web page\n",
    "*   Scrape data from html tables\n"
   ]
  },
  {
   "cell_type": "markdown",
   "metadata": {},
   "source": [
    "## Scrape [www.ibm.com](http://www.ibm.com/?utm_medium=Exinfluencer&utm_source=Exinfluencer&utm_content=000026UJ&utm_term=10006555&utm_id=NA-SkillsNetwork-Channel-SkillsNetworkCoursesIBMDA0321ENSkillsNetwork21426264-2021-01-01)\n"
   ]
  },
  {
   "cell_type": "markdown",
   "metadata": {},
   "source": [
    "Import the required modules and functions\n"
   ]
  },
  {
   "cell_type": "code",
   "execution_count": 1,
   "metadata": {},
   "outputs": [],
   "source": [
    "from bs4 import BeautifulSoup # this module helps in web scrapping.\n",
    "import requests  # this module helps us to download a web page"
   ]
  },
  {
   "cell_type": "markdown",
   "metadata": {},
   "source": [
    "Download the contents of the web page\n"
   ]
  },
  {
   "cell_type": "code",
   "execution_count": 2,
   "metadata": {},
   "outputs": [],
   "source": [
    "url = \"http://www.ibm.com\""
   ]
  },
  {
   "cell_type": "code",
   "execution_count": 3,
   "metadata": {},
   "outputs": [],
   "source": [
    "# get the contents of the webpage in text format and store in a variable called data\n",
    "data  = requests.get(url).text "
   ]
  },
  {
   "cell_type": "markdown",
   "metadata": {},
   "source": [
    "Create a soup object using the class BeautifulSoup\n"
   ]
  },
  {
   "cell_type": "code",
   "execution_count": 4,
   "metadata": {},
   "outputs": [],
   "source": [
    "soup = BeautifulSoup(data,\"html5lib\")  # create a soup object using the variable 'data'"
   ]
  },
  {
   "cell_type": "markdown",
   "metadata": {},
   "source": [
    "Scrape all links\n"
   ]
  },
  {
   "cell_type": "code",
   "execution_count": 5,
   "metadata": {},
   "outputs": [
    {
     "name": "stdout",
     "output_type": "stream",
     "text": [
      "https://www.ibm.com/ca/en\n",
      "\n",
      "https://www.ibm.com/ca-en/products?lnk=hpmps_bupr_caen&lnk2=link\n",
      "https://www.ibm.com/industries?lnk=hpmps_buin_caen&lnk2=link\n",
      "https://www.ibm.com/artificial-intelligence?lnk=hpmps_buai_caen&lnk2=link\n",
      "https://www.ibm.com/automation?lnk=hpmps_buau_caen&lnk2=link\n",
      "https://www.ibm.com/blockchain?lnk=hpmps_bubc_caen&lnk2=link\n",
      "https://www.ibm.com/business-operations?lnk=hpmps_buop_caen&lnk2=link\n",
      "https://www.ibm.com/cloud?lnk=hpmps_bucl_caen&lnk2=link\n",
      "https://www.ibm.com/analytics?lnk=hpmps_buda_caen&lnk2=link\n",
      "https://www.ibm.com/it-infrastructure?lnk=hpmps_buit_caen&lnk2=link\n",
      "https://www.ibm.com/security?lnk=hpmps_buse_caen&lnk2=link\n",
      "https://www.ibm.com/supply-chain?lnk=hpmps_busc_caen&lnk2=link\n",
      "https://www.ibm.com/financing?lnk=hpmps_bufi_caen&lnk2=link\n",
      "https://www.ibm.com/ca-en/products?lnk=hpmps_buall_caen&lnk2=link\n",
      "\n",
      "https://www.ibm.com/services/process?lnk=hpmsc_bups_caen&lnk2=link\n",
      "https://www.ibm.com/services/ibmix/?lnk=hpmsc_budbs_caen&lnk2=link\n",
      "https://www.ibm.com/services/cloud?lnk=hpmsc_buhs?lnk=hpmsc_buhs_caen\n",
      "https://www.ibm.com/talent-management?lnk=hpmsc_buta_caen&lnk2=link\n",
      "https://www.ibm.com/services/applications?lnk=hpmsc_buas_caen&lnk2=link\n",
      "https://www.ibm.com/garage?lnk=hpmsc_buas_caen&lnk2=link\n",
      "https://www.ibm.com/security/services?lnk=hpmsc_buse_caen&lnk2=link\n",
      "https://www.ibm.com/services/technology-support?lnk=hpmsc_busv_caen&lnk2=link\n",
      "https://www.ibm.com/financing/solutions/it-services-financing?lnk=hpmsc_bufi_caen&lnk2=link\n",
      "https://www.ibm.com/services?lnk=hpmsc_buall_caen&lnk2=link\n",
      "\n",
      "https://www.ibm.com/support/ca/en/?lnk=hpmls_busu_caen&lnk2=link\n",
      "https://www.ibm.com/support/knowledgecenter/?lnk=hpmls_budc_caen&lnk2=link\n",
      "https://developer.ibm.com/?lnk=hpmls_bude_caen&lnk2=link\n",
      "https://www.ibm.com/training/?lnk=hpmls_butr_caen&lnk2=link\n",
      "https://www.ibm.com/blogs/?lnk=hpmls_bure_caen&lnk2=link\n",
      "https://www.ibm.com/cloud/learn?lnk=hpmls_buwi_caen&lnk2=link\n",
      "\n",
      "https://www.ibm.com/partnerworld/public?lnk=hpmex_bupa_caen&lnk2=link\n",
      "https://www.research.ibm.com/?lnk=hpmex_bure_caen&lnk2=link\n",
      "https://www.ibm.com/about?lnk=hpmex_buab_caen&lnk2=link\n",
      "https://www.ibm.com/impact/covid-19?lnk=hpmex_buco_caen&lnk2=link\n",
      "https://www.ibm.com/sitemap/ca/en\n",
      "https://www.ibm.com/events/ca-en/think-summit/?lnk=hpv18l1\n",
      "https://newsroom.ibm.com/2021-10-20-IBM-Reports-2021-Third-Quarter-Results?lnk=hpv18nf\n",
      "https://newsroom.ibm.com/Todays-IBM-An-Open-Letter-from-Chairman-and-CEO-Arvind-Krishna?lnk=hpv18f1\n",
      "https://www.ibm.com/consulting/?lnk=hpv18l2\n",
      "https://www.ibm.com/downloads/cas/BQYOBQEV?lnk=hpv18f3\n",
      "https://www.ibm.com/news/ca/en/2021/10/12/mebo-mk-nscc_partner_with_ibm_canda_to_launch_the_unama-ki_p-tech_school_model_for_indigenous_youth.html?lnk=hpv18f4\n",
      "https://www.ibm.com/ca-en/cloud/object-storage?lnk=STW_CA_HPT_T1_BLK&psrc=NONE&pexp=DEF&lnk2=trial_ObjectStorage%3Flnk%3Dhpv18t1\n",
      "https://www.ibm.com/ca-en/cloud/watson-discovery?lnk=STW_CA_HPT_T2_BLK&psrc=NONE&pexp=DEF&lnk2=trial_WatDiscovery%3Flnk%3Dhpv18t2\n",
      "https://www.ibm.com/ca-en/cloud/cloud-pak-for-business-automation?lnk=STW_CA_HPT_T3_BLK&psrc=NONE&pexp=DEF&lnk2=trial_CloudPakBusAuto%3Flnk%3Dhpv18t3\n",
      "https://www.ibm.com/ca-en/cloud/openshift/resources?lnk=STW_CA_HPT_T4_BLK&psrc=NONE&pexp=DEF&lnk2=trial_RedHatOpenShift%3Flnk%3Dhpv18t4\n",
      "https://developer.ibm.com/depmodels/cloud/?lnk=hpv18ct16\n",
      "https://developer.ibm.com/technologies/artificial-intelligence?lnk=hpv18ct19\n",
      "https://www.ibm.com/demos/?lnk=hpv18ct12\n",
      "https://developer.ibm.com/?lnk=hpv18ct9\n",
      "https://www.ibm.com/docs/en?lnk=hpv18ct14\n",
      "https://www.redbooks.ibm.com/?lnk=ushpv18ct10\n",
      "https://www.ibm.com/support/home/?lnk=hpv18ct11\n",
      "https://www.ibm.com/training/?lnk=hpv18ct15\n",
      "/cloud/hybrid?lnk=hpv18pt14\n",
      "/cloud/learn/public-cloud?lnk=hpv18ct1\n",
      "/watson?lnk=ushpv18pt17\n",
      "/garage?lnk=hpv18pt13\n",
      "/blockchain?lnk=hpv18pt4\n",
      "https://www.ibm.com/thought-leadership/institute-business-value/?lnk=hpv18pt12\n",
      "/analytics?lnk=hpv18pt1\n",
      "/security?lnk=hpv18pt9\n",
      "/financing?lnk=hpv18pt3\n",
      "https://www.ibm.com/quantum-computing?lnk=hpv18pt16\n",
      "/cloud/hybrid?lnk=hpv18ct20\n",
      "/cloud/learn/public-cloud?lnk=hpv18ct1\n",
      "/cloud/redhat?lnk=hpv18ct13\n",
      "/watson?lnk=hpv18ct3\n",
      "https://www.ibm.com/quantum-computing?lnk=hpv18ct18\n",
      "/cloud/learn/kubernetes?lnk=hpv18ct8\n",
      "/products/spss-statistics?lnk=ushpv18ct7\n",
      "/blockchain?lnk=hpv18ct1\n",
      "https://www.ibm.com/ca-en/employment/?lnk=hpv18ct2\n",
      "https://www.ibm.com/case-studies/gemological-institute-of-america/?lnk=hpv18cs1\n",
      "/case-studies/search?lnk=hpv18cs2\n",
      "https://www.ibm.com/ca-en/products?lnk=fdi-caen\n",
      "https://www.ibm.com/services/en-us/?lnk=fdi\n",
      "https://www.ibm.com/industries/en-us/?lnk=fdi\n",
      "https://www.ibm.com/case-studies?lnk=fdi\n",
      "https://www.ibm.com/partnerworld/wps/servlet/ContentHandler/partnerworld-home?lnk=mdev_pw_caen&lnk2=learn\n",
      "https://www.ibm.com/support/home/?lnk=msu_usen\n",
      "https://www.ibm.com/partnerworld/wps/bplocator/search.jsp?lnk=fcw-caen\n",
      "https://www.ibm.com/employment/ca/en/?lnk=fab_caen\n",
      "https://www.ibm.com/news/ca/en/?lnk=fab-caen\n",
      "https://www.ibm.com/blogs/ibm-canada/?lnk=fab-caen\n",
      "https://www.ibm.com/investor/?lnk=fab-caen\n",
      "https://www.ibm.com/ibm/responsibility/?lnk=fab-caen\n",
      "https://www.ibm.com/ca-en/about\n",
      "https://www.ibm.com/contact/ca/en/?lnk=flg-cont-caen\n",
      "https://www.ibm.com/privacy/ca/en/?lnk=flg-priv-caen\n",
      "https://www.ibm.com/ca-en/legal?lnk=flg-tous-caen\n",
      "https://www.ibm.com/accessibility/ca/en/?lnk=flg-acce-caen\n",
      "#\n"
     ]
    }
   ],
   "source": [
    "for link in soup.find_all('a'):  # in html anchor/link is represented by the tag <a>\n",
    "    print(link.get('href'))"
   ]
  },
  {
   "cell_type": "markdown",
   "metadata": {},
   "source": [
    "Scrape  all images\n"
   ]
  },
  {
   "cell_type": "code",
   "execution_count": 6,
   "metadata": {},
   "outputs": [
    {
     "name": "stdout",
     "output_type": "stream",
     "text": [
      "//1.cms.s81c.com/sites/default/files/2021-11-07/Arvind%20Open%20Letter_Card.jpg\n",
      "//1.cms.s81c.com/sites/default/files/2021-11-07/20211103-f-ibm-consulting-26242.gif\n",
      "//1.cms.s81c.com/sites/default/files/2021-11-07/Dont_get_lost_in_cloud_card.png\n",
      "//1.cms.s81c.com/sites/default/files/2021-11-07/PTECH_School_Card.jpg\n",
      "//1.cms.s81c.com/sites/default/files/2021-11-07/Cloud-Object-Storage-update-trial-444x266.png\n",
      "//1.cms.s81c.com/sites/default/files/2021-11-07/watson-discovery-trial_700x420%20%281%29.png\n",
      "//1.cms.s81c.com/sites/default/files/2021-10-22/Cloud-pak-for-automation-444x260.png\n",
      "//1.cms.s81c.com/sites/default/files/2021-10-22/OpenShift-Cloud-23811-700x420.png\n"
     ]
    }
   ],
   "source": [
    "for link in soup.find_all('img'):# in html image is represented by the tag <img>\n",
    "    print(link.get('src'))"
   ]
  },
  {
   "cell_type": "markdown",
   "metadata": {},
   "source": [
    "## Scrape data from html tables\n"
   ]
  },
  {
   "cell_type": "code",
   "execution_count": null,
   "metadata": {},
   "outputs": [],
   "source": [
    "#The below url contains a html table with data about colors and color codes."
   ]
  },
  {
   "cell_type": "code",
   "execution_count": 7,
   "metadata": {},
   "outputs": [],
   "source": [
    "url = \"https://cf-courses-data.s3.us.cloud-object-storage.appdomain.cloud/IBM-DA0321EN-SkillsNetwork/labs/datasets/HTMLColorCodes.html\""
   ]
  },
  {
   "cell_type": "markdown",
   "metadata": {},
   "source": [
    "Before proceeding to scrape a web site, you need to examine the contents, and the way data is organized on the website. Open the above url in your browser and check how many rows and columns are there in the color table.\n"
   ]
  },
  {
   "cell_type": "code",
   "execution_count": 8,
   "metadata": {},
   "outputs": [],
   "source": [
    "# get the contents of the webpage in text format and store in a variable called data\n",
    "data  = requests.get(url).text"
   ]
  },
  {
   "cell_type": "code",
   "execution_count": 9,
   "metadata": {},
   "outputs": [],
   "source": [
    "soup = BeautifulSoup(data,\"html5lib\")"
   ]
  },
  {
   "cell_type": "code",
   "execution_count": 10,
   "metadata": {},
   "outputs": [],
   "source": [
    "#find a html table in the web page\n",
    "table = soup.find('table') # in html table is represented by the tag <table>"
   ]
  },
  {
   "cell_type": "code",
   "execution_count": 11,
   "metadata": {},
   "outputs": [
    {
     "name": "stdout",
     "output_type": "stream",
     "text": [
      "Color Name--->Hex Code#RRGGBB\n",
      "lightsalmon--->#FFA07A\n",
      "salmon--->#FA8072\n",
      "darksalmon--->#E9967A\n",
      "lightcoral--->#F08080\n",
      "coral--->#FF7F50\n",
      "tomato--->#FF6347\n",
      "orangered--->#FF4500\n",
      "gold--->#FFD700\n",
      "orange--->#FFA500\n",
      "darkorange--->#FF8C00\n",
      "lightyellow--->#FFFFE0\n",
      "lemonchiffon--->#FFFACD\n",
      "papayawhip--->#FFEFD5\n",
      "moccasin--->#FFE4B5\n",
      "peachpuff--->#FFDAB9\n",
      "palegoldenrod--->#EEE8AA\n",
      "khaki--->#F0E68C\n",
      "darkkhaki--->#BDB76B\n",
      "yellow--->#FFFF00\n",
      "lawngreen--->#7CFC00\n",
      "chartreuse--->#7FFF00\n",
      "limegreen--->#32CD32\n",
      "lime--->#00FF00\n",
      "forestgreen--->#228B22\n",
      "green--->#008000\n",
      "powderblue--->#B0E0E6\n",
      "lightblue--->#ADD8E6\n",
      "lightskyblue--->#87CEFA\n",
      "skyblue--->#87CEEB\n",
      "deepskyblue--->#00BFFF\n",
      "lightsteelblue--->#B0C4DE\n",
      "dodgerblue--->#1E90FF\n"
     ]
    }
   ],
   "source": [
    "#Get all rows from the table\n",
    "for row in table.find_all('tr'): # in html table row is represented by the tag <tr>\n",
    "    # Get all columns in each row.\n",
    "    cols = row.find_all('td') # in html a column is represented by the tag <td>\n",
    "    color_name = cols[2].getText() # store the value in column 3 as color_name\n",
    "    color_code = cols[3].getText() # store the value in column 4 as color_code\n",
    "    print(\"{}--->{}\".format(color_name,color_code))"
   ]
  },
  {
   "cell_type": "markdown",
   "metadata": {},
   "source": [
    "## Authors\n"
   ]
  },
  {
   "cell_type": "markdown",
   "metadata": {},
   "source": [
    "Ramesh Sannareddy\n"
   ]
  },
  {
   "cell_type": "markdown",
   "metadata": {},
   "source": [
    "### Other Contributors\n"
   ]
  },
  {
   "cell_type": "markdown",
   "metadata": {},
   "source": [
    "Rav Ahuja\n"
   ]
  },
  {
   "cell_type": "markdown",
   "metadata": {},
   "source": [
    "## Change Log\n"
   ]
  },
  {
   "cell_type": "markdown",
   "metadata": {},
   "source": [
    "| Date (YYYY-MM-DD) | Version | Changed By        | Change Description                 |\n",
    "| ----------------- | ------- | ----------------- | ---------------------------------- |\n",
    "| 2020-10-17        | 0.1     | Ramesh Sannareddy | Created initial version of the lab |\n"
   ]
  },
  {
   "cell_type": "markdown",
   "metadata": {},
   "source": [
    "Copyright © 2020 IBM Corporation. This notebook and its source code are released under the terms of the [MIT License](https://cognitiveclass.ai/mit-license/?utm_medium=Exinfluencer&utm_source=Exinfluencer&utm_content=000026UJ&utm_term=10006555&utm_id=NA-SkillsNetwork-Channel-SkillsNetworkCoursesIBMDA0321ENSkillsNetwork21426264-2021-01-01).\n"
   ]
  }
 ],
 "metadata": {
  "kernelspec": {
   "display_name": "Python 3 (ipykernel)",
   "language": "python",
   "name": "python3"
  },
  "language_info": {
   "codemirror_mode": {
    "name": "ipython",
    "version": 3
   },
   "file_extension": ".py",
   "mimetype": "text/x-python",
   "name": "python",
   "nbconvert_exporter": "python",
   "pygments_lexer": "ipython3",
   "version": "3.8.8"
  }
 },
 "nbformat": 4,
 "nbformat_minor": 4
}
